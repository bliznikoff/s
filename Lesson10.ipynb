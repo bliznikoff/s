{
 "cells": [
  {
   "cell_type": "markdown",
   "id": "3602fb3d",
   "metadata": {},
   "source": [
    "Загрузка библиотек\n"
   ]
  },
  {
   "cell_type": "markdown",
   "id": "cd192cce",
   "metadata": {},
   "source": [
    "import numpy as np\n",
    "import pandas as pd\n",
    "from scipy import stats"
   ]
  },
  {
   "cell_type": "markdown",
   "id": "2c693dd0",
   "metadata": {},
   "source": [
    "Сформулируем нулевую гипотезу:\n",
    " т.е. средний рост спортсмена не зависит от вида спорта, которым он занимается(из представленных трех).\n",
    "Альтернативная гипотеза:\n",
    " т.е. средний рост спортсмена зависит от выбранного им спорта."
   ]
  },
  {
   "cell_type": "code",
   "execution_count": 3,
   "id": "d7a4e620",
   "metadata": {},
   "outputs": [],
   "source": [
    "football=np.array([173, 175, 180, 178, 177, 185, 183, 182])\n",
    "hockey=np.array([177, 179, 180, 188, 177, 172, 171, 184, 180])\n",
    "weightlifting=np.array([172, 173, 169, 177, 166, 180, 178, 177, 172, 166, 170])"
   ]
  },
  {
   "cell_type": "markdown",
   "id": "3af3f7ea",
   "metadata": {},
   "source": [
    "Применим встроенный метод однофакторного дисперсионного анализа библиотеки scipy:"
   ]
  },
  {
   "cell_type": "code",
   "execution_count": 5,
   "id": "811e5042",
   "metadata": {
    "scrolled": true
   },
   "outputs": [
    {
     "data": {
      "text/plain": [
       "F_onewayResult(statistic=5.500053450812596, pvalue=0.010482206918698694)"
      ]
     },
     "execution_count": 5,
     "metadata": {},
     "output_type": "execute_result"
    }
   ],
   "source": [
    "stats.f_oneway(football, hockey, weightlifting)\n"
   ]
  },
  {
   "cell_type": "markdown",
   "id": "45ba7284",
   "metadata": {},
   "source": [
    "Получили значение pvalue=0.010482206918698694\n",
    " на уровне статистической значимости a=0.05\n",
    " отвергаем нулевую гипотезу. Т.е. средний рост футболистов, хоккеистов и штангистов различен.\n",
    "При этом на уровне значимости a=0.01\n",
    " нулевую гипотезу отвергнуть не можем"
   ]
  }
 ],
 "metadata": {
  "kernelspec": {
   "display_name": "Python 3 (ipykernel)",
   "language": "python",
   "name": "python3"
  },
  "language_info": {
   "codemirror_mode": {
    "name": "ipython",
    "version": 3
   },
   "file_extension": ".py",
   "mimetype": "text/x-python",
   "name": "python",
   "nbconvert_exporter": "python",
   "pygments_lexer": "ipython3",
   "version": "3.9.13"
  }
 },
 "nbformat": 4,
 "nbformat_minor": 5
}
